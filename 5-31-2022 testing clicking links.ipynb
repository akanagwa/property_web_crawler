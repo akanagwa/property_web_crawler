{
 "cells": [
  {
   "cell_type": "code",
   "execution_count": null,
   "metadata": {},
   "outputs": [],
   "source": [
    "import pandas as pd\n",
    "import numpy as np \n",
    "import requests\n",
    "from bs4 import BeautifulSoup\n",
    "import datetime as datetime"
   ]
  },
  {
   "cell_type": "code",
   "execution_count": null,
   "metadata": {},
   "outputs": [],
   "source": []
  },
  {
   "cell_type": "code",
   "execution_count": 11,
   "metadata": {},
   "outputs": [],
   "source": [
    "from selenium import webdriver"
   ]
  },
  {
   "cell_type": "code",
   "execution_count": 12,
   "metadata": {},
   "outputs": [],
   "source": [
    "from webdriver_manager.chrome import ChromeDriverManager"
   ]
  },
  {
   "cell_type": "code",
   "execution_count": 13,
   "metadata": {},
   "outputs": [],
   "source": [
    "import time"
   ]
  },
  {
   "cell_type": "code",
   "execution_count": 22,
   "metadata": {},
   "outputs": [],
   "source": [
    "PATH=r\"C:\\Users\\arnie\\.wdm\\drivers\\chromedriver\\win32\\102.0.5005.61.exe\""
   ]
  },
  {
   "cell_type": "code",
   "execution_count": 24,
   "metadata": {},
   "outputs": [],
   "source": [
    "PATH=r\"C:\\Users\\arnie\\.wdm\\drivers\\chromedriver.exe\""
   ]
  },
  {
   "cell_type": "code",
   "execution_count": 25,
   "metadata": {},
   "outputs": [
    {
     "name": "stderr",
     "output_type": "stream",
     "text": [
      "<ipython-input-25-39becb130489>:1: DeprecationWarning: executable_path has been deprecated, please pass in a Service object\n",
      "  driver=webdriver.Chrome(PATH)\n"
     ]
    },
    {
     "ename": "WebDriverException",
     "evalue": "Message: 'chromedriver.exe' executable needs to be in PATH. Please see https://chromedriver.chromium.org/home\n",
     "output_type": "error",
     "traceback": [
      "\u001b[1;31m---------------------------------------------------------------------------\u001b[0m",
      "\u001b[1;31mFileNotFoundError\u001b[0m                         Traceback (most recent call last)",
      "\u001b[1;32m~\\Anaconda3\\lib\\site-packages\\selenium\\webdriver\\common\\service.py\u001b[0m in \u001b[0;36mstart\u001b[1;34m(self)\u001b[0m\n\u001b[0;32m     70\u001b[0m             \u001b[0mcmd\u001b[0m\u001b[1;33m.\u001b[0m\u001b[0mextend\u001b[0m\u001b[1;33m(\u001b[0m\u001b[0mself\u001b[0m\u001b[1;33m.\u001b[0m\u001b[0mcommand_line_args\u001b[0m\u001b[1;33m(\u001b[0m\u001b[1;33m)\u001b[0m\u001b[1;33m)\u001b[0m\u001b[1;33m\u001b[0m\u001b[1;33m\u001b[0m\u001b[0m\n\u001b[1;32m---> 71\u001b[1;33m             self.process = subprocess.Popen(cmd, env=self.env,\n\u001b[0m\u001b[0;32m     72\u001b[0m                                             \u001b[0mclose_fds\u001b[0m\u001b[1;33m=\u001b[0m\u001b[0msystem\u001b[0m\u001b[1;33m(\u001b[0m\u001b[1;33m)\u001b[0m \u001b[1;33m!=\u001b[0m \u001b[1;34m'Windows'\u001b[0m\u001b[1;33m,\u001b[0m\u001b[1;33m\u001b[0m\u001b[1;33m\u001b[0m\u001b[0m\n",
      "\u001b[1;32m~\\Anaconda3\\lib\\subprocess.py\u001b[0m in \u001b[0;36m__init__\u001b[1;34m(self, args, bufsize, executable, stdin, stdout, stderr, preexec_fn, close_fds, shell, cwd, env, universal_newlines, startupinfo, creationflags, restore_signals, start_new_session, pass_fds, encoding, errors, text)\u001b[0m\n\u001b[0;32m    853\u001b[0m \u001b[1;33m\u001b[0m\u001b[0m\n\u001b[1;32m--> 854\u001b[1;33m             self._execute_child(args, executable, preexec_fn, close_fds,\n\u001b[0m\u001b[0;32m    855\u001b[0m                                 \u001b[0mpass_fds\u001b[0m\u001b[1;33m,\u001b[0m \u001b[0mcwd\u001b[0m\u001b[1;33m,\u001b[0m \u001b[0menv\u001b[0m\u001b[1;33m,\u001b[0m\u001b[1;33m\u001b[0m\u001b[1;33m\u001b[0m\u001b[0m\n",
      "\u001b[1;32m~\\Anaconda3\\lib\\subprocess.py\u001b[0m in \u001b[0;36m_execute_child\u001b[1;34m(self, args, executable, preexec_fn, close_fds, pass_fds, cwd, env, startupinfo, creationflags, shell, p2cread, p2cwrite, c2pread, c2pwrite, errread, errwrite, unused_restore_signals, unused_start_new_session)\u001b[0m\n\u001b[0;32m   1306\u001b[0m             \u001b[1;32mtry\u001b[0m\u001b[1;33m:\u001b[0m\u001b[1;33m\u001b[0m\u001b[1;33m\u001b[0m\u001b[0m\n\u001b[1;32m-> 1307\u001b[1;33m                 hp, ht, pid, tid = _winapi.CreateProcess(executable, args,\n\u001b[0m\u001b[0;32m   1308\u001b[0m                                          \u001b[1;31m# no special security\u001b[0m\u001b[1;33m\u001b[0m\u001b[1;33m\u001b[0m\u001b[1;33m\u001b[0m\u001b[0m\n",
      "\u001b[1;31mFileNotFoundError\u001b[0m: [WinError 2] The system cannot find the file specified",
      "\nDuring handling of the above exception, another exception occurred:\n",
      "\u001b[1;31mWebDriverException\u001b[0m                        Traceback (most recent call last)",
      "\u001b[1;32m<ipython-input-25-39becb130489>\u001b[0m in \u001b[0;36m<module>\u001b[1;34m\u001b[0m\n\u001b[1;32m----> 1\u001b[1;33m \u001b[0mdriver\u001b[0m\u001b[1;33m=\u001b[0m\u001b[0mwebdriver\u001b[0m\u001b[1;33m.\u001b[0m\u001b[0mChrome\u001b[0m\u001b[1;33m(\u001b[0m\u001b[0mPATH\u001b[0m\u001b[1;33m)\u001b[0m\u001b[1;33m\u001b[0m\u001b[1;33m\u001b[0m\u001b[0m\n\u001b[0m",
      "\u001b[1;32m~\\Anaconda3\\lib\\site-packages\\selenium\\webdriver\\chrome\\webdriver.py\u001b[0m in \u001b[0;36m__init__\u001b[1;34m(self, executable_path, port, options, service_args, desired_capabilities, service_log_path, chrome_options, service, keep_alive)\u001b[0m\n\u001b[0;32m     68\u001b[0m             \u001b[0mservice\u001b[0m \u001b[1;33m=\u001b[0m \u001b[0mService\u001b[0m\u001b[1;33m(\u001b[0m\u001b[0mexecutable_path\u001b[0m\u001b[1;33m,\u001b[0m \u001b[0mport\u001b[0m\u001b[1;33m,\u001b[0m \u001b[0mservice_args\u001b[0m\u001b[1;33m,\u001b[0m \u001b[0mservice_log_path\u001b[0m\u001b[1;33m)\u001b[0m\u001b[1;33m\u001b[0m\u001b[1;33m\u001b[0m\u001b[0m\n\u001b[0;32m     69\u001b[0m \u001b[1;33m\u001b[0m\u001b[0m\n\u001b[1;32m---> 70\u001b[1;33m         super(WebDriver, self).__init__(DesiredCapabilities.CHROME['browserName'], \"goog\",\n\u001b[0m\u001b[0;32m     71\u001b[0m                                         \u001b[0mport\u001b[0m\u001b[1;33m,\u001b[0m \u001b[0moptions\u001b[0m\u001b[1;33m,\u001b[0m\u001b[1;33m\u001b[0m\u001b[1;33m\u001b[0m\u001b[0m\n\u001b[0;32m     72\u001b[0m                                         \u001b[0mservice_args\u001b[0m\u001b[1;33m,\u001b[0m \u001b[0mdesired_capabilities\u001b[0m\u001b[1;33m,\u001b[0m\u001b[1;33m\u001b[0m\u001b[1;33m\u001b[0m\u001b[0m\n",
      "\u001b[1;32m~\\Anaconda3\\lib\\site-packages\\selenium\\webdriver\\chromium\\webdriver.py\u001b[0m in \u001b[0;36m__init__\u001b[1;34m(self, browser_name, vendor_prefix, port, options, service_args, desired_capabilities, service_log_path, service, keep_alive)\u001b[0m\n\u001b[0;32m     88\u001b[0m \u001b[1;33m\u001b[0m\u001b[0m\n\u001b[0;32m     89\u001b[0m         \u001b[0mself\u001b[0m\u001b[1;33m.\u001b[0m\u001b[0mservice\u001b[0m \u001b[1;33m=\u001b[0m \u001b[0mservice\u001b[0m\u001b[1;33m\u001b[0m\u001b[1;33m\u001b[0m\u001b[0m\n\u001b[1;32m---> 90\u001b[1;33m         \u001b[0mself\u001b[0m\u001b[1;33m.\u001b[0m\u001b[0mservice\u001b[0m\u001b[1;33m.\u001b[0m\u001b[0mstart\u001b[0m\u001b[1;33m(\u001b[0m\u001b[1;33m)\u001b[0m\u001b[1;33m\u001b[0m\u001b[1;33m\u001b[0m\u001b[0m\n\u001b[0m\u001b[0;32m     91\u001b[0m \u001b[1;33m\u001b[0m\u001b[0m\n\u001b[0;32m     92\u001b[0m         \u001b[1;32mtry\u001b[0m\u001b[1;33m:\u001b[0m\u001b[1;33m\u001b[0m\u001b[1;33m\u001b[0m\u001b[0m\n",
      "\u001b[1;32m~\\Anaconda3\\lib\\site-packages\\selenium\\webdriver\\common\\service.py\u001b[0m in \u001b[0;36mstart\u001b[1;34m(self)\u001b[0m\n\u001b[0;32m     79\u001b[0m         \u001b[1;32mexcept\u001b[0m \u001b[0mOSError\u001b[0m \u001b[1;32mas\u001b[0m \u001b[0merr\u001b[0m\u001b[1;33m:\u001b[0m\u001b[1;33m\u001b[0m\u001b[1;33m\u001b[0m\u001b[0m\n\u001b[0;32m     80\u001b[0m             \u001b[1;32mif\u001b[0m \u001b[0merr\u001b[0m\u001b[1;33m.\u001b[0m\u001b[0merrno\u001b[0m \u001b[1;33m==\u001b[0m \u001b[0merrno\u001b[0m\u001b[1;33m.\u001b[0m\u001b[0mENOENT\u001b[0m\u001b[1;33m:\u001b[0m\u001b[1;33m\u001b[0m\u001b[1;33m\u001b[0m\u001b[0m\n\u001b[1;32m---> 81\u001b[1;33m                 raise WebDriverException(\n\u001b[0m\u001b[0;32m     82\u001b[0m                     \"'%s' executable needs to be in PATH. %s\" % (\n\u001b[0;32m     83\u001b[0m                         os.path.basename(self.path), self.start_error_message)\n",
      "\u001b[1;31mWebDriverException\u001b[0m: Message: 'chromedriver.exe' executable needs to be in PATH. Please see https://chromedriver.chromium.org/home\n"
     ]
    }
   ],
   "source": [
    "driver=webdriver.Chrome(PATH)"
   ]
  },
  {
   "cell_type": "code",
   "execution_count": null,
   "metadata": {},
   "outputs": [],
   "source": []
  },
  {
   "cell_type": "code",
   "execution_count": null,
   "metadata": {},
   "outputs": [],
   "source": []
  },
  {
   "cell_type": "code",
   "execution_count": null,
   "metadata": {},
   "outputs": [],
   "source": []
  },
  {
   "cell_type": "code",
   "execution_count": 9,
   "metadata": {},
   "outputs": [],
   "source": [
    "browser.get('https://www.propertyshark.com/homes/US/Real-Estate-Listings/OK/Edmond.html?page={1}')"
   ]
  },
  {
   "cell_type": "code",
   "execution_count": 10,
   "metadata": {},
   "outputs": [
    {
     "name": "stderr",
     "output_type": "stream",
     "text": [
      "<ipython-input-10-9c2ade6a485f>:1: DeprecationWarning: find_element_by_link_text is deprecated. Please use find_element(by=By.LINK_TEXT, value=link_text) instead\n",
      "  button=browser.find_element_by_link_text('VIEW DETAILS')\n"
     ]
    },
    {
     "ename": "NoSuchElementException",
     "evalue": "Message: no such element: Unable to locate element: {\"method\":\"link text\",\"selector\":\"VIEW DETAILS\"}\n  (Session info: chrome=102.0.5005.63)\nStacktrace:\nBacktrace:\n\tOrdinal0 [0x0052D953+2414931]\n\tOrdinal0 [0x004BF5E1+1963489]\n\tOrdinal0 [0x003AC6B8+837304]\n\tOrdinal0 [0x003D9500+1021184]\n\tOrdinal0 [0x003D979B+1021851]\n\tOrdinal0 [0x00406502+1205506]\n\tOrdinal0 [0x003F44E4+1131748]\n\tOrdinal0 [0x00404812+1198098]\n\tOrdinal0 [0x003F42B6+1131190]\n\tOrdinal0 [0x003CE860+976992]\n\tOrdinal0 [0x003CF756+980822]\n\tGetHandleVerifier [0x0079CC62+2510274]\n\tGetHandleVerifier [0x0078F760+2455744]\n\tGetHandleVerifier [0x005BEABA+551962]\n\tGetHandleVerifier [0x005BD916+547446]\n\tOrdinal0 [0x004C5F3B+1990459]\n\tOrdinal0 [0x004CA898+2009240]\n\tOrdinal0 [0x004CA985+2009477]\n\tOrdinal0 [0x004D3AD1+2046673]\n\tBaseThreadInitThunk [0x75D66739+25]\n\tRtlGetFullPathName_UEx [0x77C98FEF+1215]\n\tRtlGetFullPathName_UEx [0x77C98FBD+1165]\n",
     "output_type": "error",
     "traceback": [
      "\u001b[1;31m---------------------------------------------------------------------------\u001b[0m",
      "\u001b[1;31mNoSuchElementException\u001b[0m                    Traceback (most recent call last)",
      "\u001b[1;32m<ipython-input-10-9c2ade6a485f>\u001b[0m in \u001b[0;36m<module>\u001b[1;34m\u001b[0m\n\u001b[1;32m----> 1\u001b[1;33m \u001b[0mbutton\u001b[0m\u001b[1;33m=\u001b[0m\u001b[0mbrowser\u001b[0m\u001b[1;33m.\u001b[0m\u001b[0mfind_element_by_link_text\u001b[0m\u001b[1;33m(\u001b[0m\u001b[1;34m'VIEW DETAILS'\u001b[0m\u001b[1;33m)\u001b[0m\u001b[1;33m\u001b[0m\u001b[1;33m\u001b[0m\u001b[0m\n\u001b[0m",
      "\u001b[1;32m~\\Anaconda3\\lib\\site-packages\\selenium\\webdriver\\remote\\webdriver.py\u001b[0m in \u001b[0;36mfind_element_by_link_text\u001b[1;34m(self, link_text)\u001b[0m\n\u001b[0;32m    567\u001b[0m             \u001b[0mstacklevel\u001b[0m\u001b[1;33m=\u001b[0m\u001b[1;36m2\u001b[0m\u001b[1;33m,\u001b[0m\u001b[1;33m\u001b[0m\u001b[1;33m\u001b[0m\u001b[0m\n\u001b[0;32m    568\u001b[0m         )\n\u001b[1;32m--> 569\u001b[1;33m         \u001b[1;32mreturn\u001b[0m \u001b[0mself\u001b[0m\u001b[1;33m.\u001b[0m\u001b[0mfind_element\u001b[0m\u001b[1;33m(\u001b[0m\u001b[0mby\u001b[0m\u001b[1;33m=\u001b[0m\u001b[0mBy\u001b[0m\u001b[1;33m.\u001b[0m\u001b[0mLINK_TEXT\u001b[0m\u001b[1;33m,\u001b[0m \u001b[0mvalue\u001b[0m\u001b[1;33m=\u001b[0m\u001b[0mlink_text\u001b[0m\u001b[1;33m)\u001b[0m\u001b[1;33m\u001b[0m\u001b[1;33m\u001b[0m\u001b[0m\n\u001b[0m\u001b[0;32m    570\u001b[0m \u001b[1;33m\u001b[0m\u001b[0m\n\u001b[0;32m    571\u001b[0m     \u001b[1;32mdef\u001b[0m \u001b[0mfind_elements_by_link_text\u001b[0m\u001b[1;33m(\u001b[0m\u001b[0mself\u001b[0m\u001b[1;33m,\u001b[0m \u001b[0mtext\u001b[0m\u001b[1;33m)\u001b[0m \u001b[1;33m->\u001b[0m \u001b[0mList\u001b[0m\u001b[1;33m[\u001b[0m\u001b[0mWebElement\u001b[0m\u001b[1;33m]\u001b[0m\u001b[1;33m:\u001b[0m\u001b[1;33m\u001b[0m\u001b[1;33m\u001b[0m\u001b[0m\n",
      "\u001b[1;32m~\\Anaconda3\\lib\\site-packages\\selenium\\webdriver\\remote\\webdriver.py\u001b[0m in \u001b[0;36mfind_element\u001b[1;34m(self, by, value)\u001b[0m\n\u001b[0;32m   1246\u001b[0m             \u001b[0mvalue\u001b[0m \u001b[1;33m=\u001b[0m \u001b[1;34m'[name=\"%s\"]'\u001b[0m \u001b[1;33m%\u001b[0m \u001b[0mvalue\u001b[0m\u001b[1;33m\u001b[0m\u001b[1;33m\u001b[0m\u001b[0m\n\u001b[0;32m   1247\u001b[0m \u001b[1;33m\u001b[0m\u001b[0m\n\u001b[1;32m-> 1248\u001b[1;33m         return self.execute(Command.FIND_ELEMENT, {\n\u001b[0m\u001b[0;32m   1249\u001b[0m             \u001b[1;34m'using'\u001b[0m\u001b[1;33m:\u001b[0m \u001b[0mby\u001b[0m\u001b[1;33m,\u001b[0m\u001b[1;33m\u001b[0m\u001b[1;33m\u001b[0m\u001b[0m\n\u001b[0;32m   1250\u001b[0m             'value': value})['value']\n",
      "\u001b[1;32m~\\Anaconda3\\lib\\site-packages\\selenium\\webdriver\\remote\\webdriver.py\u001b[0m in \u001b[0;36mexecute\u001b[1;34m(self, driver_command, params)\u001b[0m\n\u001b[0;32m    423\u001b[0m         \u001b[0mresponse\u001b[0m \u001b[1;33m=\u001b[0m \u001b[0mself\u001b[0m\u001b[1;33m.\u001b[0m\u001b[0mcommand_executor\u001b[0m\u001b[1;33m.\u001b[0m\u001b[0mexecute\u001b[0m\u001b[1;33m(\u001b[0m\u001b[0mdriver_command\u001b[0m\u001b[1;33m,\u001b[0m \u001b[0mparams\u001b[0m\u001b[1;33m)\u001b[0m\u001b[1;33m\u001b[0m\u001b[1;33m\u001b[0m\u001b[0m\n\u001b[0;32m    424\u001b[0m         \u001b[1;32mif\u001b[0m \u001b[0mresponse\u001b[0m\u001b[1;33m:\u001b[0m\u001b[1;33m\u001b[0m\u001b[1;33m\u001b[0m\u001b[0m\n\u001b[1;32m--> 425\u001b[1;33m             \u001b[0mself\u001b[0m\u001b[1;33m.\u001b[0m\u001b[0merror_handler\u001b[0m\u001b[1;33m.\u001b[0m\u001b[0mcheck_response\u001b[0m\u001b[1;33m(\u001b[0m\u001b[0mresponse\u001b[0m\u001b[1;33m)\u001b[0m\u001b[1;33m\u001b[0m\u001b[1;33m\u001b[0m\u001b[0m\n\u001b[0m\u001b[0;32m    426\u001b[0m             response['value'] = self._unwrap_value(\n\u001b[0;32m    427\u001b[0m                 response.get('value', None))\n",
      "\u001b[1;32m~\\Anaconda3\\lib\\site-packages\\selenium\\webdriver\\remote\\errorhandler.py\u001b[0m in \u001b[0;36mcheck_response\u001b[1;34m(self, response)\u001b[0m\n\u001b[0;32m    245\u001b[0m                 \u001b[0malert_text\u001b[0m \u001b[1;33m=\u001b[0m \u001b[0mvalue\u001b[0m\u001b[1;33m[\u001b[0m\u001b[1;34m'alert'\u001b[0m\u001b[1;33m]\u001b[0m\u001b[1;33m.\u001b[0m\u001b[0mget\u001b[0m\u001b[1;33m(\u001b[0m\u001b[1;34m'text'\u001b[0m\u001b[1;33m)\u001b[0m\u001b[1;33m\u001b[0m\u001b[1;33m\u001b[0m\u001b[0m\n\u001b[0;32m    246\u001b[0m             \u001b[1;32mraise\u001b[0m \u001b[0mexception_class\u001b[0m\u001b[1;33m(\u001b[0m\u001b[0mmessage\u001b[0m\u001b[1;33m,\u001b[0m \u001b[0mscreen\u001b[0m\u001b[1;33m,\u001b[0m \u001b[0mstacktrace\u001b[0m\u001b[1;33m,\u001b[0m \u001b[0malert_text\u001b[0m\u001b[1;33m)\u001b[0m  \u001b[1;31m# type: ignore[call-arg]  # mypy is not smart enough here\u001b[0m\u001b[1;33m\u001b[0m\u001b[1;33m\u001b[0m\u001b[0m\n\u001b[1;32m--> 247\u001b[1;33m         \u001b[1;32mraise\u001b[0m \u001b[0mexception_class\u001b[0m\u001b[1;33m(\u001b[0m\u001b[0mmessage\u001b[0m\u001b[1;33m,\u001b[0m \u001b[0mscreen\u001b[0m\u001b[1;33m,\u001b[0m \u001b[0mstacktrace\u001b[0m\u001b[1;33m)\u001b[0m\u001b[1;33m\u001b[0m\u001b[1;33m\u001b[0m\u001b[0m\n\u001b[0m\u001b[0;32m    248\u001b[0m \u001b[1;33m\u001b[0m\u001b[0m\n\u001b[0;32m    249\u001b[0m     \u001b[1;32mdef\u001b[0m \u001b[0m_value_or_default\u001b[0m\u001b[1;33m(\u001b[0m\u001b[0mself\u001b[0m\u001b[1;33m,\u001b[0m \u001b[0mobj\u001b[0m\u001b[1;33m:\u001b[0m \u001b[0mMapping\u001b[0m\u001b[1;33m[\u001b[0m\u001b[0m_KT\u001b[0m\u001b[1;33m,\u001b[0m \u001b[0m_VT\u001b[0m\u001b[1;33m]\u001b[0m\u001b[1;33m,\u001b[0m \u001b[0mkey\u001b[0m\u001b[1;33m:\u001b[0m \u001b[0m_KT\u001b[0m\u001b[1;33m,\u001b[0m \u001b[0mdefault\u001b[0m\u001b[1;33m:\u001b[0m \u001b[0m_VT\u001b[0m\u001b[1;33m)\u001b[0m \u001b[1;33m->\u001b[0m \u001b[0m_VT\u001b[0m\u001b[1;33m:\u001b[0m\u001b[1;33m\u001b[0m\u001b[1;33m\u001b[0m\u001b[0m\n",
      "\u001b[1;31mNoSuchElementException\u001b[0m: Message: no such element: Unable to locate element: {\"method\":\"link text\",\"selector\":\"VIEW DETAILS\"}\n  (Session info: chrome=102.0.5005.63)\nStacktrace:\nBacktrace:\n\tOrdinal0 [0x0052D953+2414931]\n\tOrdinal0 [0x004BF5E1+1963489]\n\tOrdinal0 [0x003AC6B8+837304]\n\tOrdinal0 [0x003D9500+1021184]\n\tOrdinal0 [0x003D979B+1021851]\n\tOrdinal0 [0x00406502+1205506]\n\tOrdinal0 [0x003F44E4+1131748]\n\tOrdinal0 [0x00404812+1198098]\n\tOrdinal0 [0x003F42B6+1131190]\n\tOrdinal0 [0x003CE860+976992]\n\tOrdinal0 [0x003CF756+980822]\n\tGetHandleVerifier [0x0079CC62+2510274]\n\tGetHandleVerifier [0x0078F760+2455744]\n\tGetHandleVerifier [0x005BEABA+551962]\n\tGetHandleVerifier [0x005BD916+547446]\n\tOrdinal0 [0x004C5F3B+1990459]\n\tOrdinal0 [0x004CA898+2009240]\n\tOrdinal0 [0x004CA985+2009477]\n\tOrdinal0 [0x004D3AD1+2046673]\n\tBaseThreadInitThunk [0x75D66739+25]\n\tRtlGetFullPathName_UEx [0x77C98FEF+1215]\n\tRtlGetFullPathName_UEx [0x77C98FBD+1165]\n"
     ]
    }
   ],
   "source": [
    "button=browser.find_element_by_link_text('VIEW DETAILS')"
   ]
  },
  {
   "cell_type": "code",
   "execution_count": null,
   "metadata": {},
   "outputs": [],
   "source": []
  },
  {
   "cell_type": "code",
   "execution_count": null,
   "metadata": {},
   "outputs": [],
   "source": []
  },
  {
   "cell_type": "code",
   "execution_count": null,
   "metadata": {},
   "outputs": [],
   "source": []
  },
  {
   "cell_type": "code",
   "execution_count": null,
   "metadata": {},
   "outputs": [],
   "source": []
  },
  {
   "cell_type": "code",
   "execution_count": null,
   "metadata": {},
   "outputs": [],
   "source": [
    "#always enter page number you want\n",
    "page_nze=60"
   ]
  },
  {
   "cell_type": "code",
   "execution_count": null,
   "metadata": {},
   "outputs": [],
   "source": [
    "#pd.options.display.max_colwidth=None"
   ]
  },
  {
   "cell_type": "code",
   "execution_count": null,
   "metadata": {},
   "outputs": [],
   "source": [
    "#https://www.propertyshark.com/homes/US/Real-Estate-Listings/OK.html?page={}"
   ]
  },
  {
   "cell_type": "code",
   "execution_count": null,
   "metadata": {},
   "outputs": [],
   "source": [
    "#https://www.propertyshark.com/homes/US/Real-Estate-Listings/OK.html?location=Edmond%2C+OK&search_mode=location&SelectedView=listings&LocationGeoId=879183&location_changed=true&ajax&page='+str(urls)"
   ]
  },
  {
   "cell_type": "code",
   "execution_count": null,
   "metadata": {},
   "outputs": [],
   "source": [
    "##Edmond "
   ]
  },
  {
   "cell_type": "code",
   "execution_count": null,
   "metadata": {},
   "outputs": [],
   "source": [
    "def get_page_data(page):\n",
    "    print('page:', page)\n",
    "\n",
    "    url = 'https://www.propertyshark.com/homes/US/Real-Estate-Listings/OK/Edmond.html?page={}'.format(page)\n",
    "    page=requests.get(url)\n",
    "    soup=BeautifulSoup(page.text,'html')\n",
    "    \n",
    "    address=[]\n",
    "    address_element=soup.find_all(class_='address-container')\n",
    "    for item in address_element:\n",
    "        address.append(item.text)\n",
    "        \n",
    "    \n",
    "        \n",
    "        \n",
    "    price=[]\n",
    "    price_element=soup.find_all(class_='price')\n",
    "    for item in price_element:\n",
    "        price.append(item.text)\n",
    "    \n",
    "    characteristics=[]\n",
    "    charac_element=soup.find_all(class_='item-info-cnt')#characteristics-cnt\n",
    "    for item in charac_element:\n",
    "        characteristics.append(item.text)\n",
    "            \n",
    "    final=[]\n",
    "    for address,price,characteristics in zip(address,price,characteristics):\n",
    "        final.append({'address':address,'price':price,'characteristics':characteristics})\n",
    "        #print (final)\n",
    "    \n",
    "    \n",
    "    #final=[[address,characteristics]]\n",
    "    \n",
    "    return final"
   ]
  },
  {
   "cell_type": "code",
   "execution_count": null,
   "metadata": {
    "scrolled": false
   },
   "outputs": [],
   "source": [
    "housing = []\n",
    "for page in range(1, page_nze):\n",
    "    oklahoma= get_page_data(page)\n",
    "    housing.extend(oklahoma)"
   ]
  },
  {
   "cell_type": "code",
   "execution_count": null,
   "metadata": {},
   "outputs": [],
   "source": [
    "edmond=pd.DataFrame(housing)"
   ]
  },
  {
   "cell_type": "code",
   "execution_count": null,
   "metadata": {
    "scrolled": true
   },
   "outputs": [],
   "source": []
  },
  {
   "cell_type": "code",
   "execution_count": null,
   "metadata": {},
   "outputs": [],
   "source": [
    "##oklahoma city"
   ]
  },
  {
   "cell_type": "code",
   "execution_count": null,
   "metadata": {},
   "outputs": [],
   "source": [
    "def get_page_data(page):\n",
    "    print('page:', page)\n",
    "\n",
    "    url = 'https://www.propertyshark.com/homes/US/Real-Estate-Listings/OK/Oklahoma-City.html?page={}'.format(page)\n",
    "    page=requests.get(url)\n",
    "    soup=BeautifulSoup(page.text,'html')\n",
    "    \n",
    "    address=[]\n",
    "    address_element=soup.find_all(class_='address-container')\n",
    "    for item in address_element:\n",
    "        address.append(item.text)\n",
    "        \n",
    "    \n",
    "        \n",
    "        \n",
    "    price=[]\n",
    "    price_element=soup.find_all(class_='price')\n",
    "    for item in price_element:\n",
    "        price.append(item.text)\n",
    "    \n",
    "    characteristics=[]\n",
    "    charac_element=soup.find_all(class_='item-info-cnt')#characteristics-cnt\n",
    "    for item in charac_element:\n",
    "        characteristics.append(item.text)\n",
    "            \n",
    "    final=[]\n",
    "    for address,price,characteristics in zip(address,price,characteristics):\n",
    "        final.append({'address':address,'price':price,'characteristics':characteristics})\n",
    "        #print (final)\n",
    "    \n",
    "    \n",
    "    #final=[[address,characteristics]]\n",
    "    \n",
    "    return final"
   ]
  },
  {
   "cell_type": "code",
   "execution_count": null,
   "metadata": {
    "scrolled": true
   },
   "outputs": [],
   "source": [
    "housing = []\n",
    "for page in range(1, page_nze):\n",
    "    oklahoma= get_page_data(page)\n",
    "    housing.extend(oklahoma)"
   ]
  },
  {
   "cell_type": "code",
   "execution_count": null,
   "metadata": {},
   "outputs": [],
   "source": [
    "oklahoma_city=pd.DataFrame(housing)"
   ]
  },
  {
   "cell_type": "code",
   "execution_count": null,
   "metadata": {},
   "outputs": [],
   "source": []
  },
  {
   "cell_type": "code",
   "execution_count": null,
   "metadata": {},
   "outputs": [],
   "source": [
    "##Tulsa"
   ]
  },
  {
   "cell_type": "code",
   "execution_count": null,
   "metadata": {},
   "outputs": [],
   "source": [
    "def get_page_data(page):\n",
    "    print('page:', page)\n",
    "\n",
    "    url = 'https://www.propertyshark.com/homes/US/Real-Estate-Listings/OK/Tulsa.html?page={}'.format(page)\n",
    "    page=requests.get(url)\n",
    "    soup=BeautifulSoup(page.text,'html')\n",
    "    \n",
    "    address=[]\n",
    "    address_element=soup.find_all(class_='address-container')\n",
    "    for item in address_element:\n",
    "        address.append(item.text)\n",
    "        \n",
    "    \n",
    "        \n",
    "        \n",
    "    price=[]\n",
    "    price_element=soup.find_all(class_='price')\n",
    "    for item in price_element:\n",
    "        price.append(item.text)\n",
    "    \n",
    "    characteristics=[]\n",
    "    charac_element=soup.find_all(class_='item-info-cnt')#characteristics-cnt\n",
    "    for item in charac_element:\n",
    "        characteristics.append(item.text)\n",
    "            \n",
    "    final=[]\n",
    "    for address,price,characteristics in zip(address,price,characteristics):\n",
    "        final.append({'address':address,'price':price,'characteristics':characteristics})\n",
    "        #print (final)\n",
    "    \n",
    "    \n",
    "    #final=[[address,characteristics]]\n",
    "    \n",
    "    return final"
   ]
  },
  {
   "cell_type": "code",
   "execution_count": null,
   "metadata": {
    "scrolled": true
   },
   "outputs": [],
   "source": [
    "housing = []\n",
    "for page in range(1, page_nze):\n",
    "    oklahoma= get_page_data(page)\n",
    "    housing.extend(oklahoma)"
   ]
  },
  {
   "cell_type": "code",
   "execution_count": null,
   "metadata": {},
   "outputs": [],
   "source": [
    "tulsa=pd.DataFrame(housing)"
   ]
  },
  {
   "cell_type": "code",
   "execution_count": null,
   "metadata": {},
   "outputs": [],
   "source": []
  },
  {
   "cell_type": "code",
   "execution_count": null,
   "metadata": {},
   "outputs": [],
   "source": []
  },
  {
   "cell_type": "code",
   "execution_count": null,
   "metadata": {},
   "outputs": [],
   "source": [
    "##norman\n",
    "def get_page_data(page):\n",
    "    print('page:', page)\n",
    "\n",
    "    url = 'https://www.propertyshark.com/homes/US/Real-Estate-Listings/OK/Norman.html?page={}'.format(page)\n",
    "    page=requests.get(url)\n",
    "    soup=BeautifulSoup(page.text,'html')\n",
    "    \n",
    "    address=[]\n",
    "    address_element=soup.find_all(class_='address-container')\n",
    "    for item in address_element:\n",
    "        address.append(item.text)\n",
    "        \n",
    "    \n",
    "        \n",
    "        \n",
    "    price=[]\n",
    "    price_element=soup.find_all(class_='price')\n",
    "    for item in price_element:\n",
    "        price.append(item.text)\n",
    "    \n",
    "    characteristics=[]\n",
    "    charac_element=soup.find_all(class_='item-info-cnt')#characteristics-cnt\n",
    "    for item in charac_element:\n",
    "        characteristics.append(item.text)\n",
    "            \n",
    "    final=[]\n",
    "    for address,price,characteristics in zip(address,price,characteristics):\n",
    "        final.append({'address':address,'price':price,'characteristics':characteristics})\n",
    "        #print (final)\n",
    "    \n",
    "    \n",
    "    #final=[[address,characteristics]]\n",
    "    \n",
    "    return final"
   ]
  },
  {
   "cell_type": "code",
   "execution_count": null,
   "metadata": {
    "scrolled": true
   },
   "outputs": [],
   "source": [
    "housing = []\n",
    "for page in range(1, page_nze):\n",
    "    oklahoma= get_page_data(page)\n",
    "    housing.extend(oklahoma)"
   ]
  },
  {
   "cell_type": "code",
   "execution_count": null,
   "metadata": {},
   "outputs": [],
   "source": [
    "norman=pd.DataFrame(housing)"
   ]
  },
  {
   "cell_type": "code",
   "execution_count": null,
   "metadata": {},
   "outputs": [],
   "source": []
  },
  {
   "cell_type": "code",
   "execution_count": null,
   "metadata": {},
   "outputs": [],
   "source": [
    "##broken arrow\n",
    "\n",
    "def get_page_data(page):\n",
    "    print('page:', page)\n",
    "\n",
    "    url = 'https://www.propertyshark.com/homes/US/Real-Estate-Listings/OK/Broken-Arrow.html?page={}'.format(page)\n",
    "    page=requests.get(url)\n",
    "    soup=BeautifulSoup(page.text,'html')\n",
    "    \n",
    "    address=[]\n",
    "    address_element=soup.find_all(class_='address-container')\n",
    "    for item in address_element:\n",
    "        address.append(item.text)\n",
    "        \n",
    "    \n",
    "        \n",
    "        \n",
    "    price=[]\n",
    "    price_element=soup.find_all(class_='price')\n",
    "    for item in price_element:\n",
    "        price.append(item.text)\n",
    "    \n",
    "    characteristics=[]\n",
    "    charac_element=soup.find_all(class_='item-info-cnt')#characteristics-cnt\n",
    "    for item in charac_element:\n",
    "        characteristics.append(item.text)\n",
    "            \n",
    "    final=[]\n",
    "    for address,price,characteristics in zip(address,price,characteristics):\n",
    "        final.append({'address':address,'price':price,'characteristics':characteristics})\n",
    "        #print (final)\n",
    "    \n",
    "    \n",
    "    #final=[[address,characteristics]]\n",
    "    \n",
    "    return final"
   ]
  },
  {
   "cell_type": "code",
   "execution_count": null,
   "metadata": {},
   "outputs": [],
   "source": [
    "housing = []\n",
    "for page in range(1, page_nze):\n",
    "    oklahoma= get_page_data(page)\n",
    "    housing.extend(oklahoma)"
   ]
  },
  {
   "cell_type": "code",
   "execution_count": null,
   "metadata": {},
   "outputs": [],
   "source": [
    "broken_arrow=pd.DataFrame(housing)"
   ]
  },
  {
   "cell_type": "code",
   "execution_count": null,
   "metadata": {},
   "outputs": [],
   "source": []
  },
  {
   "cell_type": "code",
   "execution_count": null,
   "metadata": {},
   "outputs": [],
   "source": [
    "##Lawton\n",
    "\n",
    "def get_page_data(page):\n",
    "    print('page:', page)\n",
    "\n",
    "    url = 'https://www.propertyshark.com/homes/US/Real-Estate-Listings/OK/Lawton.html?page={}'.format(page)\n",
    "    page=requests.get(url)\n",
    "    soup=BeautifulSoup(page.text,'html')\n",
    "    \n",
    "    address=[]\n",
    "    address_element=soup.find_all(class_='address-container')\n",
    "    for item in address_element:\n",
    "        address.append(item.text)\n",
    "        \n",
    "    \n",
    "        \n",
    "        \n",
    "    price=[]\n",
    "    price_element=soup.find_all(class_='price')\n",
    "    for item in price_element:\n",
    "        price.append(item.text)\n",
    "    \n",
    "    characteristics=[]\n",
    "    charac_element=soup.find_all(class_='item-info-cnt')#characteristics-cnt\n",
    "    for item in charac_element:\n",
    "        characteristics.append(item.text)\n",
    "            \n",
    "    final=[]\n",
    "    for address,price,characteristics in zip(address,price,characteristics):\n",
    "        final.append({'address':address,'price':price,'characteristics':characteristics})\n",
    "        #print (final)\n",
    "    \n",
    "    \n",
    "    #final=[[address,characteristics]]\n",
    "    \n",
    "    return final"
   ]
  },
  {
   "cell_type": "code",
   "execution_count": null,
   "metadata": {
    "scrolled": true
   },
   "outputs": [],
   "source": [
    "housing = []\n",
    "for page in range(1, page_nze):\n",
    "    oklahoma= get_page_data(page)\n",
    "    housing.extend(oklahoma)"
   ]
  },
  {
   "cell_type": "code",
   "execution_count": null,
   "metadata": {},
   "outputs": [],
   "source": [
    "lawton=pd.DataFrame(housing)"
   ]
  },
  {
   "cell_type": "code",
   "execution_count": null,
   "metadata": {},
   "outputs": [],
   "source": []
  },
  {
   "cell_type": "code",
   "execution_count": null,
   "metadata": {},
   "outputs": [],
   "source": [
    "##Moore\n",
    "\n",
    "def get_page_data(page):\n",
    "    print('page:', page)\n",
    "\n",
    "    url = 'https://www.propertyshark.com/homes/US/Real-Estate-Listings/OK/Moore.html?page={}'.format(page)\n",
    "    page=requests.get(url)\n",
    "    soup=BeautifulSoup(page.text,'html')\n",
    "    \n",
    "    address=[]\n",
    "    address_element=soup.find_all(class_='address-container')\n",
    "    for item in address_element:\n",
    "        address.append(item.text)\n",
    "        \n",
    "    \n",
    "        \n",
    "        \n",
    "    price=[]\n",
    "    price_element=soup.find_all(class_='price')\n",
    "    for item in price_element:\n",
    "        price.append(item.text)\n",
    "    \n",
    "    characteristics=[]\n",
    "    charac_element=soup.find_all(class_='item-info-cnt')#characteristics-cnt\n",
    "    for item in charac_element:\n",
    "        characteristics.append(item.text)\n",
    "            \n",
    "    final=[]\n",
    "    for address,price,characteristics in zip(address,price,characteristics):\n",
    "        final.append({'address':address,'price':price,'characteristics':characteristics})\n",
    "        #print (final)\n",
    "    \n",
    "    \n",
    "    #final=[[address,characteristics]]\n",
    "    \n",
    "    return final"
   ]
  },
  {
   "cell_type": "code",
   "execution_count": null,
   "metadata": {
    "scrolled": true
   },
   "outputs": [],
   "source": [
    "housing = []\n",
    "for page in range(1, page_nze):\n",
    "    oklahoma= get_page_data(page)\n",
    "    housing.extend(oklahoma)"
   ]
  },
  {
   "cell_type": "code",
   "execution_count": null,
   "metadata": {},
   "outputs": [],
   "source": [
    "moore=pd.DataFrame(housing)"
   ]
  },
  {
   "cell_type": "code",
   "execution_count": null,
   "metadata": {},
   "outputs": [],
   "source": []
  },
  {
   "cell_type": "code",
   "execution_count": null,
   "metadata": {},
   "outputs": [],
   "source": [
    "##all of oklahoma \n",
    "\n",
    "def get_page_data(page):\n",
    "    print('page:', page)\n",
    "\n",
    "    url = 'https://www.propertyshark.com/homes/US/Real-Estate-Listings/OK.html?page={}'.format(page)\n",
    "    page=requests.get(url)\n",
    "    soup=BeautifulSoup(page.text,'html')\n",
    "    \n",
    "    address=[]\n",
    "    address_element=soup.find_all(class_='address-container')\n",
    "    for item in address_element:\n",
    "        address.append(item.text)\n",
    "        \n",
    "    \n",
    "        \n",
    "        \n",
    "    price=[]\n",
    "    price_element=soup.find_all(class_='price')\n",
    "    for item in price_element:\n",
    "        price.append(item.text)\n",
    "    \n",
    "    characteristics=[]\n",
    "    charac_element=soup.find_all(class_='item-info-cnt')#characteristics-cnt\n",
    "    for item in charac_element:\n",
    "        characteristics.append(item.text)\n",
    "            \n",
    "    final=[]\n",
    "    for address,price,characteristics in zip(address,price,characteristics):\n",
    "        final.append({'address':address,'price':price,'characteristics':characteristics})\n",
    "        #print (final)\n",
    "    \n",
    "    \n",
    "    #final=[[address,characteristics]]\n",
    "    \n",
    "    return final"
   ]
  },
  {
   "cell_type": "code",
   "execution_count": null,
   "metadata": {
    "scrolled": false
   },
   "outputs": [],
   "source": [
    "housing = []\n",
    "for page in range(1, page_nze):\n",
    "    oklahoma= get_page_data(page)\n",
    "    housing.extend(oklahoma)"
   ]
  },
  {
   "cell_type": "code",
   "execution_count": null,
   "metadata": {},
   "outputs": [],
   "source": [
    "all_oklahoma=pd.DataFrame(housing)"
   ]
  },
  {
   "cell_type": "code",
   "execution_count": null,
   "metadata": {},
   "outputs": [],
   "source": []
  },
  {
   "cell_type": "code",
   "execution_count": null,
   "metadata": {},
   "outputs": [],
   "source": []
  },
  {
   "cell_type": "code",
   "execution_count": null,
   "metadata": {},
   "outputs": [],
   "source": []
  },
  {
   "cell_type": "code",
   "execution_count": null,
   "metadata": {},
   "outputs": [],
   "source": [
    "##counties\n",
    "def get_page_data(page):\n",
    "    print('page:', page)\n",
    "\n",
    "    url = 'https://www.propertyshark.com/homes/US/Real-Estate-Listings/OK/Oklahoma-County.html?page={}'.format(page)\n",
    "    page=requests.get(url)\n",
    "    soup=BeautifulSoup(page.text,'html')\n",
    "    \n",
    "    address=[]\n",
    "    address_element=soup.find_all(class_='address-container')\n",
    "    for item in address_element:\n",
    "        address.append(item.text)\n",
    "        \n",
    "    \n",
    "        \n",
    "        \n",
    "    price=[]\n",
    "    price_element=soup.find_all(class_='price')\n",
    "    for item in price_element:\n",
    "        price.append(item.text)\n",
    "    \n",
    "    characteristics=[]\n",
    "    charac_element=soup.find_all(class_='item-info-cnt')#characteristics-cnt\n",
    "    for item in charac_element:\n",
    "        characteristics.append(item.text)\n",
    "            \n",
    "    final=[]\n",
    "    for address,price,characteristics in zip(address,price,characteristics):\n",
    "        final.append({'address':address,'price':price,'characteristics':characteristics})\n",
    "        #print (final)\n",
    "    \n",
    "    \n",
    "    #final=[[address,characteristics]]\n",
    "    \n",
    "    return final\n",
    "\n",
    "\n"
   ]
  },
  {
   "cell_type": "code",
   "execution_count": null,
   "metadata": {},
   "outputs": [],
   "source": [
    "housing = []\n",
    "for page in range(1, page_nze):\n",
    "    oklahoma= get_page_data(page)\n",
    "    housing.extend(oklahoma)"
   ]
  },
  {
   "cell_type": "code",
   "execution_count": null,
   "metadata": {},
   "outputs": [],
   "source": [
    "ok_county=pd.DataFrame(housing)"
   ]
  },
  {
   "cell_type": "code",
   "execution_count": null,
   "metadata": {},
   "outputs": [],
   "source": []
  },
  {
   "cell_type": "code",
   "execution_count": null,
   "metadata": {},
   "outputs": [],
   "source": [
    "def get_page_data(page):\n",
    "    print('page:', page)\n",
    "\n",
    "    url = 'https://www.propertyshark.com/homes/US/Real-Estate-Listings/OK/Tulsa-County.html?page={}'.format(page)\n",
    "    page=requests.get(url)\n",
    "    soup=BeautifulSoup(page.text,'html')\n",
    "    \n",
    "    address=[]\n",
    "    address_element=soup.find_all(class_='address-container')\n",
    "    for item in address_element:\n",
    "        address.append(item.text)\n",
    "        \n",
    "    \n",
    "        \n",
    "        \n",
    "    price=[]\n",
    "    price_element=soup.find_all(class_='price')\n",
    "    for item in price_element:\n",
    "        price.append(item.text)\n",
    "    \n",
    "    characteristics=[]\n",
    "    charac_element=soup.find_all(class_='item-info-cnt')#characteristics-cnt\n",
    "    for item in charac_element:\n",
    "        characteristics.append(item.text)\n",
    "            \n",
    "    final=[]\n",
    "    for address,price,characteristics in zip(address,price,characteristics):\n",
    "        final.append({'address':address,'price':price,'characteristics':characteristics})\n",
    "        #print (final)\n",
    "    \n",
    "    \n",
    "    #final=[[address,characteristics]]\n",
    "    \n",
    "    return final"
   ]
  },
  {
   "cell_type": "code",
   "execution_count": null,
   "metadata": {},
   "outputs": [],
   "source": [
    "housing = []\n",
    "for page in range(1, page_nze):\n",
    "    oklahoma= get_page_data(page)\n",
    "    housing.extend(oklahoma)"
   ]
  },
  {
   "cell_type": "code",
   "execution_count": null,
   "metadata": {},
   "outputs": [],
   "source": [
    "tu_county=pd.DataFrame(housing)"
   ]
  },
  {
   "cell_type": "code",
   "execution_count": null,
   "metadata": {},
   "outputs": [],
   "source": []
  },
  {
   "cell_type": "code",
   "execution_count": null,
   "metadata": {},
   "outputs": [],
   "source": [
    "def get_page_data(page):\n",
    "    print('page:', page)\n",
    "\n",
    "    url = 'https://www.propertyshark.com/homes/US/Real-Estate-Listings/OK/Cleveland-County.html?page={}'.format(page)\n",
    "    page=requests.get(url)\n",
    "    soup=BeautifulSoup(page.text,'html')\n",
    "    \n",
    "    address=[]\n",
    "    address_element=soup.find_all(class_='address-container')\n",
    "    for item in address_element:\n",
    "        address.append(item.text)\n",
    "        \n",
    "    \n",
    "        \n",
    "        \n",
    "    price=[]\n",
    "    price_element=soup.find_all(class_='price')\n",
    "    for item in price_element:\n",
    "        price.append(item.text)\n",
    "    \n",
    "    characteristics=[]\n",
    "    charac_element=soup.find_all(class_='item-info-cnt')#characteristics-cnt\n",
    "    for item in charac_element:\n",
    "        characteristics.append(item.text)\n",
    "            \n",
    "    final=[]\n",
    "    for address,price,characteristics in zip(address,price,characteristics):\n",
    "        final.append({'address':address,'price':price,'characteristics':characteristics})\n",
    "        #print (final)\n",
    "    \n",
    "    \n",
    "    #final=[[address,characteristics]]\n",
    "    \n",
    "    return final"
   ]
  },
  {
   "cell_type": "code",
   "execution_count": null,
   "metadata": {
    "scrolled": true
   },
   "outputs": [],
   "source": [
    "housing = []\n",
    "for page in range(1, page_nze):\n",
    "    oklahoma= get_page_data(page)\n",
    "    housing.extend(oklahoma)"
   ]
  },
  {
   "cell_type": "code",
   "execution_count": null,
   "metadata": {},
   "outputs": [],
   "source": [
    "cl_county=pd.DataFrame(housing)"
   ]
  },
  {
   "cell_type": "code",
   "execution_count": null,
   "metadata": {},
   "outputs": [],
   "source": []
  },
  {
   "cell_type": "code",
   "execution_count": null,
   "metadata": {},
   "outputs": [],
   "source": [
    "##norman\n",
    "def get_page_data(page):\n",
    "    print('page:', page)\n",
    "\n",
    "    url = 'https://www.propertyshark.com/homes/US/Real-Estate-Listings/OK/Canadian-County.html?page={}'.format(page)\n",
    "    page=requests.get(url)\n",
    "    soup=BeautifulSoup(page.text,'html')\n",
    "    \n",
    "    address=[]\n",
    "    address_element=soup.find_all(class_='address-container')\n",
    "    for item in address_element:\n",
    "        address.append(item.text)\n",
    "        \n",
    "    \n",
    "        \n",
    "        \n",
    "    price=[]\n",
    "    price_element=soup.find_all(class_='price')\n",
    "    for item in price_element:\n",
    "        price.append(item.text)\n",
    "    \n",
    "    characteristics=[]\n",
    "    charac_element=soup.find_all(class_='item-info-cnt')#characteristics-cnt\n",
    "    for item in charac_element:\n",
    "        characteristics.append(item.text)\n",
    "            \n",
    "    final=[]\n",
    "    for address,price,characteristics in zip(address,price,characteristics):\n",
    "        final.append({'address':address,'price':price,'characteristics':characteristics})\n",
    "        #print (final)\n",
    "    \n",
    "    \n",
    "    #final=[[address,characteristics]]\n",
    "    \n",
    "    return final"
   ]
  },
  {
   "cell_type": "code",
   "execution_count": null,
   "metadata": {
    "scrolled": true
   },
   "outputs": [],
   "source": [
    "housing = []\n",
    "for page in range(1, page_nze):\n",
    "    oklahoma= get_page_data(page)\n",
    "    housing.extend(oklahoma)"
   ]
  },
  {
   "cell_type": "code",
   "execution_count": null,
   "metadata": {},
   "outputs": [],
   "source": [
    "ca_county=pd.DataFrame(housing)"
   ]
  },
  {
   "cell_type": "code",
   "execution_count": null,
   "metadata": {},
   "outputs": [],
   "source": []
  },
  {
   "cell_type": "code",
   "execution_count": null,
   "metadata": {},
   "outputs": [],
   "source": [
    "##all of oklahoma \n",
    "\n",
    "def get_page_data(page):\n",
    "    print('page:', page)\n",
    "\n",
    "    url = 'https://www.propertyshark.com/homes/US/Real-Estate-Listings/OK/Comanche-County.html?page={}'.format(page)\n",
    "    page=requests.get(url)\n",
    "    soup=BeautifulSoup(page.text,'html')\n",
    "    \n",
    "    address=[]\n",
    "    address_element=soup.find_all(class_='address-container')\n",
    "    for item in address_element:\n",
    "        address.append(item.text)\n",
    "        \n",
    "    \n",
    "        \n",
    "        \n",
    "    price=[]\n",
    "    price_element=soup.find_all(class_='price')\n",
    "    for item in price_element:\n",
    "        price.append(item.text)\n",
    "    \n",
    "    characteristics=[]\n",
    "    charac_element=soup.find_all(class_='item-info-cnt')#characteristics-cnt\n",
    "    for item in charac_element:\n",
    "        characteristics.append(item.text)\n",
    "            \n",
    "    final=[]\n",
    "    for address,price,characteristics in zip(address,price,characteristics):\n",
    "        final.append({'address':address,'price':price,'characteristics':characteristics})\n",
    "        #print (final)\n",
    "    \n",
    "    \n",
    "    #final=[[address,characteristics]]\n",
    "    \n",
    "    return final"
   ]
  },
  {
   "cell_type": "code",
   "execution_count": null,
   "metadata": {
    "scrolled": true
   },
   "outputs": [],
   "source": [
    "housing = []\n",
    "for page in range(1, page_nze):\n",
    "    oklahoma= get_page_data(page)\n",
    "    housing.extend(oklahoma)"
   ]
  },
  {
   "cell_type": "code",
   "execution_count": null,
   "metadata": {},
   "outputs": [],
   "source": [
    "com_county=pd.DataFrame(housing)"
   ]
  },
  {
   "cell_type": "code",
   "execution_count": null,
   "metadata": {},
   "outputs": [],
   "source": []
  },
  {
   "cell_type": "code",
   "execution_count": null,
   "metadata": {},
   "outputs": [],
   "source": [
    "def get_page_data(page):\n",
    "    print('page:', page)\n",
    "\n",
    "    url = 'https://www.propertyshark.com/homes/US/Real-Estate-Listings/OK/Rogers-County.html?page={}'.format(page)\n",
    "    page=requests.get(url)\n",
    "    soup=BeautifulSoup(page.text,'html')\n",
    "    \n",
    "    address=[]\n",
    "    address_element=soup.find_all(class_='address-container')\n",
    "    for item in address_element:\n",
    "        address.append(item.text)\n",
    "        \n",
    "    \n",
    "        \n",
    "        \n",
    "    price=[]\n",
    "    price_element=soup.find_all(class_='price')\n",
    "    for item in price_element:\n",
    "        price.append(item.text)\n",
    "    \n",
    "    characteristics=[]\n",
    "    charac_element=soup.find_all(class_='item-info-cnt')#characteristics-cnt\n",
    "    for item in charac_element:\n",
    "        characteristics.append(item.text)\n",
    "            \n",
    "    final=[]\n",
    "    for address,price,characteristics in zip(address,price,characteristics):\n",
    "        final.append({'address':address,'price':price,'characteristics':characteristics})\n",
    "        #print (final)\n",
    "    \n",
    "    \n",
    "    #final=[[address,characteristics]]\n",
    "    \n",
    "    return final"
   ]
  },
  {
   "cell_type": "code",
   "execution_count": null,
   "metadata": {
    "scrolled": true
   },
   "outputs": [],
   "source": [
    "housing = []\n",
    "for page in range(1, page_nze):\n",
    "    oklahoma= get_page_data(page)\n",
    "    housing.extend(oklahoma)"
   ]
  },
  {
   "cell_type": "code",
   "execution_count": null,
   "metadata": {},
   "outputs": [],
   "source": [
    "rog_county=pd.DataFrame(housing)"
   ]
  },
  {
   "cell_type": "code",
   "execution_count": null,
   "metadata": {},
   "outputs": [],
   "source": []
  },
  {
   "cell_type": "code",
   "execution_count": null,
   "metadata": {},
   "outputs": [],
   "source": [
    "def get_page_data(page):\n",
    "    print('page:', page)\n",
    "\n",
    "    url = 'https://www.propertyshark.com/homes/US/Real-Estate-Listings/OK/Wagoner-County.html?page={}'.format(page)\n",
    "    page=requests.get(url)\n",
    "    soup=BeautifulSoup(page.text,'html')\n",
    "    \n",
    "    address=[]\n",
    "    address_element=soup.find_all(class_='address-container')\n",
    "    for item in address_element:\n",
    "        address.append(item.text)\n",
    "        \n",
    "    \n",
    "        \n",
    "        \n",
    "    price=[]\n",
    "    price_element=soup.find_all(class_='price')\n",
    "    for item in price_element:\n",
    "        price.append(item.text)\n",
    "    \n",
    "    characteristics=[]\n",
    "    charac_element=soup.find_all(class_='item-info-cnt')#characteristics-cnt\n",
    "    for item in charac_element:\n",
    "        characteristics.append(item.text)\n",
    "            \n",
    "    final=[]\n",
    "    for address,price,characteristics in zip(address,price,characteristics):\n",
    "        final.append({'address':address,'price':price,'characteristics':characteristics})\n",
    "        #print (final)\n",
    "    \n",
    "    \n",
    "    #final=[[address,characteristics]]\n",
    "    \n",
    "    return final"
   ]
  },
  {
   "cell_type": "code",
   "execution_count": null,
   "metadata": {
    "scrolled": true
   },
   "outputs": [],
   "source": [
    "housing = []\n",
    "for page in range(1, page_nze):\n",
    "    oklahoma= get_page_data(page)\n",
    "    housing.extend(oklahoma)"
   ]
  },
  {
   "cell_type": "code",
   "execution_count": null,
   "metadata": {},
   "outputs": [],
   "source": [
    "wag_county=pd.DataFrame(housing)"
   ]
  },
  {
   "cell_type": "code",
   "execution_count": null,
   "metadata": {},
   "outputs": [],
   "source": []
  },
  {
   "cell_type": "code",
   "execution_count": null,
   "metadata": {},
   "outputs": [],
   "source": [
    "def get_page_data(page):\n",
    "    print('page:', page)\n",
    "\n",
    "    url = 'https://www.propertyshark.com/homes/US/Real-Estate-Listings/OK/Payne-County.html?page={}'.format(page)\n",
    "    page=requests.get(url)\n",
    "    soup=BeautifulSoup(page.text,'html')\n",
    "    \n",
    "    address=[]\n",
    "    address_element=soup.find_all(class_='address-container')\n",
    "    for item in address_element:\n",
    "        address.append(item.text)\n",
    "        \n",
    "    \n",
    "        \n",
    "        \n",
    "    price=[]\n",
    "    price_element=soup.find_all(class_='price')\n",
    "    for item in price_element:\n",
    "        price.append(item.text)\n",
    "    \n",
    "    characteristics=[]\n",
    "    charac_element=soup.find_all(class_='item-info-cnt')#characteristics-cnt\n",
    "    for item in charac_element:\n",
    "        characteristics.append(item.text)\n",
    "            \n",
    "    final=[]\n",
    "    for address,price,characteristics in zip(address,price,characteristics):\n",
    "        final.append({'address':address,'price':price,'characteristics':characteristics})\n",
    "        #print (final)\n",
    "    \n",
    "    \n",
    "    #final=[[address,characteristics]]\n",
    "    \n",
    "    return final"
   ]
  },
  {
   "cell_type": "code",
   "execution_count": null,
   "metadata": {
    "scrolled": true
   },
   "outputs": [],
   "source": [
    "housing = []\n",
    "for page in range(1, page_nze):\n",
    "    oklahoma= get_page_data(page)\n",
    "    housing.extend(oklahoma)"
   ]
  },
  {
   "cell_type": "code",
   "execution_count": null,
   "metadata": {},
   "outputs": [],
   "source": [
    "pay_county=pd.DataFrame(housing)"
   ]
  },
  {
   "cell_type": "code",
   "execution_count": null,
   "metadata": {},
   "outputs": [],
   "source": []
  },
  {
   "cell_type": "code",
   "execution_count": null,
   "metadata": {},
   "outputs": [],
   "source": [
    "def get_page_data(page):\n",
    "    print('page:', page)\n",
    "\n",
    "    url = 'https://www.propertyshark.com/homes/US/Real-Estate-Listings/OK/Pottawatomie-County.html?page={}'.format(page)\n",
    "    page=requests.get(url)\n",
    "    soup=BeautifulSoup(page.text,'html')\n",
    "    \n",
    "    address=[]\n",
    "    address_element=soup.find_all(class_='address-container')\n",
    "    for item in address_element:\n",
    "        address.append(item.text)\n",
    "        \n",
    "    \n",
    "        \n",
    "        \n",
    "    price=[]\n",
    "    price_element=soup.find_all(class_='price')\n",
    "    for item in price_element:\n",
    "        price.append(item.text)\n",
    "    \n",
    "    characteristics=[]\n",
    "    charac_element=soup.find_all(class_='item-info-cnt')#characteristics-cnt\n",
    "    for item in charac_element:\n",
    "        characteristics.append(item.text)\n",
    "            \n",
    "    final=[]\n",
    "    for address,price,characteristics in zip(address,price,characteristics):\n",
    "        final.append({'address':address,'price':price,'characteristics':characteristics})\n",
    "        #print (final)\n",
    "    \n",
    "    \n",
    "    #final=[[address,characteristics]]\n",
    "    \n",
    "    return final"
   ]
  },
  {
   "cell_type": "code",
   "execution_count": null,
   "metadata": {
    "scrolled": true
   },
   "outputs": [],
   "source": [
    "housing = []\n",
    "for page in range(1, page_nze):\n",
    "    oklahoma= get_page_data(page)\n",
    "    housing.extend(oklahoma)"
   ]
  },
  {
   "cell_type": "code",
   "execution_count": null,
   "metadata": {},
   "outputs": [],
   "source": [
    "potta_county=pd.DataFrame(housing)"
   ]
  },
  {
   "cell_type": "code",
   "execution_count": null,
   "metadata": {},
   "outputs": [],
   "source": []
  },
  {
   "cell_type": "code",
   "execution_count": null,
   "metadata": {},
   "outputs": [],
   "source": []
  },
  {
   "cell_type": "code",
   "execution_count": null,
   "metadata": {},
   "outputs": [],
   "source": []
  },
  {
   "cell_type": "code",
   "execution_count": null,
   "metadata": {},
   "outputs": [],
   "source": [
    "new=pd.concat([edmond,oklahoma_city,tulsa,norman,broken_arrow,lawton,moore,all_oklahoma,ok_county,tu_county,cl_county,ca_county,com_county,rog_county,wag_county,pay_county,potta_county],axis=0)"
   ]
  },
  {
   "cell_type": "code",
   "execution_count": null,
   "metadata": {},
   "outputs": [],
   "source": [
    "new.head()"
   ]
  },
  {
   "cell_type": "code",
   "execution_count": null,
   "metadata": {},
   "outputs": [],
   "source": [
    "new[new[\"address\"].str.contains(\"Pheasant\")]"
   ]
  },
  {
   "cell_type": "code",
   "execution_count": null,
   "metadata": {},
   "outputs": [],
   "source": [
    "new[new['address']=='\\r\\n 2600 Bobwhite Trail, Edmond, OK 73025\\r\\n']"
   ]
  },
  {
   "cell_type": "code",
   "execution_count": null,
   "metadata": {},
   "outputs": [],
   "source": [
    "new['price']=new['price'].map(lambda x: str(x)[21:-17])"
   ]
  },
  {
   "cell_type": "code",
   "execution_count": null,
   "metadata": {},
   "outputs": [],
   "source": [
    "pd.options.display.max_colwidth=None"
   ]
  },
  {
   "cell_type": "code",
   "execution_count": null,
   "metadata": {
    "scrolled": true
   },
   "outputs": [],
   "source": [
    "new.head()"
   ]
  },
  {
   "cell_type": "markdown",
   "metadata": {},
   "source": [
    "def char_split(x):\n",
    "    return x.str.split('\\n')"
   ]
  },
  {
   "cell_type": "code",
   "execution_count": null,
   "metadata": {},
   "outputs": [],
   "source": [
    "new.info()"
   ]
  },
  {
   "cell_type": "code",
   "execution_count": null,
   "metadata": {},
   "outputs": [],
   "source": [
    "new['characteristics']=new['characteristics'].str.split('\\n')"
   ]
  },
  {
   "cell_type": "code",
   "execution_count": null,
   "metadata": {},
   "outputs": [],
   "source": [
    "new.head()"
   ]
  },
  {
   "cell_type": "code",
   "execution_count": null,
   "metadata": {},
   "outputs": [],
   "source": [
    "##new2=new"
   ]
  },
  {
   "cell_type": "code",
   "execution_count": null,
   "metadata": {},
   "outputs": [],
   "source": [
    "#new=new.replace(r'\\s+|\\\\n', ' ', regex=True) "
   ]
  },
  {
   "cell_type": "code",
   "execution_count": null,
   "metadata": {},
   "outputs": [],
   "source": [
    "new['zip_code']=new['address'].str.split(\",\",expand=True)[2].str[4:12]"
   ]
  },
  {
   "cell_type": "code",
   "execution_count": null,
   "metadata": {},
   "outputs": [],
   "source": [
    "new['city']=new['address'].str.split(',', expand=True)[1]"
   ]
  },
  {
   "cell_type": "code",
   "execution_count": null,
   "metadata": {
    "scrolled": true
   },
   "outputs": [],
   "source": [
    "new['bed_rooms']=new['characteristics'].str[4]"
   ]
  },
  {
   "cell_type": "code",
   "execution_count": null,
   "metadata": {},
   "outputs": [],
   "source": [
    "new['bath_rooms']=new['characteristics'].str[7]"
   ]
  },
  {
   "cell_type": "code",
   "execution_count": null,
   "metadata": {
    "scrolled": true
   },
   "outputs": [],
   "source": [
    "new['sq_ft']=new['characteristics'].str[10]"
   ]
  },
  {
   "cell_type": "code",
   "execution_count": null,
   "metadata": {},
   "outputs": [],
   "source": [
    "new['lot_size']=new['characteristics'].str[13]"
   ]
  },
  {
   "cell_type": "code",
   "execution_count": null,
   "metadata": {},
   "outputs": [],
   "source": [
    "new['property_type']=new['characteristics'].str[16]"
   ]
  },
  {
   "cell_type": "code",
   "execution_count": null,
   "metadata": {},
   "outputs": [],
   "source": []
  },
  {
   "cell_type": "code",
   "execution_count": null,
   "metadata": {},
   "outputs": [],
   "source": []
  },
  {
   "cell_type": "code",
   "execution_count": null,
   "metadata": {},
   "outputs": [],
   "source": []
  },
  {
   "cell_type": "code",
   "execution_count": null,
   "metadata": {},
   "outputs": [],
   "source": [
    "new.drop(columns=['characteristics'],inplace=True)"
   ]
  },
  {
   "cell_type": "code",
   "execution_count": null,
   "metadata": {},
   "outputs": [],
   "source": []
  },
  {
   "cell_type": "code",
   "execution_count": null,
   "metadata": {
    "scrolled": false
   },
   "outputs": [],
   "source": []
  },
  {
   "cell_type": "code",
   "execution_count": null,
   "metadata": {},
   "outputs": [],
   "source": []
  },
  {
   "cell_type": "code",
   "execution_count": null,
   "metadata": {},
   "outputs": [],
   "source": [
    "#new=pd.read_csv('new.csv',thousands='.')\n",
    "new=new.replace(r'\\s+|\\\\n', ' ', regex=True) "
   ]
  },
  {
   "cell_type": "code",
   "execution_count": null,
   "metadata": {},
   "outputs": [],
   "source": [
    "new=new.replace(r'^\\s*$', np.nan, regex=True)"
   ]
  },
  {
   "cell_type": "code",
   "execution_count": null,
   "metadata": {
    "scrolled": true
   },
   "outputs": [],
   "source": [
    "new[new['zip_code']=='73505']"
   ]
  },
  {
   "cell_type": "markdown",
   "metadata": {},
   "source": [
    "# saving file for future use\n",
    "##new.to_csv('new.csv',index=False)"
   ]
  },
  {
   "cell_type": "code",
   "execution_count": null,
   "metadata": {},
   "outputs": [],
   "source": [
    "#new.to_csv('new.csv',index=False)"
   ]
  },
  {
   "cell_type": "code",
   "execution_count": null,
   "metadata": {},
   "outputs": [],
   "source": [
    "import numpy as np \n",
    "import pandas as pd"
   ]
  },
  {
   "cell_type": "code",
   "execution_count": null,
   "metadata": {},
   "outputs": [],
   "source": [
    "##new=pd.read_csv('new.csv')"
   ]
  },
  {
   "cell_type": "code",
   "execution_count": null,
   "metadata": {},
   "outputs": [],
   "source": [
    "new.head()"
   ]
  },
  {
   "cell_type": "code",
   "execution_count": null,
   "metadata": {},
   "outputs": [],
   "source": []
  },
  {
   "cell_type": "code",
   "execution_count": null,
   "metadata": {},
   "outputs": [],
   "source": [
    "##fill the missing "
   ]
  },
  {
   "cell_type": "code",
   "execution_count": null,
   "metadata": {},
   "outputs": [],
   "source": [
    "new['property_type'].value_counts()"
   ]
  },
  {
   "cell_type": "code",
   "execution_count": null,
   "metadata": {},
   "outputs": [],
   "source": [
    "#filling null property types with 0 for np where clause \n",
    "new['property_type'].fillna(0,inplace=True)##"
   ]
  },
  {
   "cell_type": "code",
   "execution_count": null,
   "metadata": {
    "scrolled": true
   },
   "outputs": [],
   "source": [
    "new.head(30)"
   ]
  },
  {
   "cell_type": "code",
   "execution_count": null,
   "metadata": {},
   "outputs": [],
   "source": []
  },
  {
   "cell_type": "code",
   "execution_count": null,
   "metadata": {},
   "outputs": [],
   "source": []
  },
  {
   "cell_type": "code",
   "execution_count": null,
   "metadata": {},
   "outputs": [],
   "source": []
  },
  {
   "cell_type": "code",
   "execution_count": null,
   "metadata": {},
   "outputs": [],
   "source": [
    "#trying to replace property types for single-family homes so they are in the right column\n",
    "new['property_type']=np.where(new['property_type']==0,new['lot_size'],new['property_type'])"
   ]
  },
  {
   "cell_type": "code",
   "execution_count": null,
   "metadata": {
    "scrolled": true
   },
   "outputs": [],
   "source": [
    "new.head(30)"
   ]
  },
  {
   "cell_type": "code",
   "execution_count": null,
   "metadata": {},
   "outputs": [],
   "source": [
    "new['property_type'].value_counts()"
   ]
  },
  {
   "cell_type": "code",
   "execution_count": null,
   "metadata": {
    "scrolled": true
   },
   "outputs": [],
   "source": [
    "new[new['zip_code']=='74014']"
   ]
  },
  {
   "cell_type": "code",
   "execution_count": null,
   "metadata": {},
   "outputs": [],
   "source": []
  },
  {
   "cell_type": "code",
   "execution_count": null,
   "metadata": {
    "scrolled": true
   },
   "outputs": [],
   "source": [
    "##trying to get residential missing property types moved from lot size to property type \n",
    "new.head(30)"
   ]
  },
  {
   "cell_type": "code",
   "execution_count": null,
   "metadata": {},
   "outputs": [],
   "source": [
    "#filling null property types with 0 for np where clause \n",
    "#new['lot_size'].fillna(0,inplace=True)"
   ]
  },
  {
   "cell_type": "code",
   "execution_count": null,
   "metadata": {},
   "outputs": [],
   "source": [
    "#new['property_type']=np.where(new['property_type']==0,new['lot_size'],new['property_type'])"
   ]
  },
  {
   "cell_type": "code",
   "execution_count": null,
   "metadata": {},
   "outputs": [],
   "source": [
    "#trying to replace property types for single-family homes so they are in the right column\n",
    "#new['lot_size']=np.where(new['lot_size']==0,new['sq_ft'],new['lot_size'])"
   ]
  },
  {
   "cell_type": "code",
   "execution_count": null,
   "metadata": {},
   "outputs": [],
   "source": []
  },
  {
   "cell_type": "code",
   "execution_count": null,
   "metadata": {},
   "outputs": [],
   "source": [
    "#filling null property types with 0 for np where clause \n",
    "new['property_type'].fillna(0,inplace=True)##"
   ]
  },
  {
   "cell_type": "code",
   "execution_count": null,
   "metadata": {},
   "outputs": [],
   "source": [
    "new['property_type']=np.where(new['property_type']==0,new['sq_ft'],new['property_type'])"
   ]
  },
  {
   "cell_type": "code",
   "execution_count": null,
   "metadata": {
    "scrolled": true
   },
   "outputs": [],
   "source": [
    "new.head(30)"
   ]
  },
  {
   "cell_type": "code",
   "execution_count": null,
   "metadata": {},
   "outputs": [],
   "source": [
    "##after this point rememeber to run the property code above again "
   ]
  },
  {
   "cell_type": "code",
   "execution_count": null,
   "metadata": {
    "scrolled": true
   },
   "outputs": [],
   "source": [
    "new.head(30)"
   ]
  },
  {
   "cell_type": "code",
   "execution_count": null,
   "metadata": {},
   "outputs": [],
   "source": []
  },
  {
   "cell_type": "code",
   "execution_count": null,
   "metadata": {},
   "outputs": [],
   "source": [
    "new['property_type'].value_counts()"
   ]
  },
  {
   "cell_type": "code",
   "execution_count": null,
   "metadata": {},
   "outputs": [],
   "source": []
  },
  {
   "cell_type": "code",
   "execution_count": null,
   "metadata": {},
   "outputs": [],
   "source": [
    "#removing all whitespace from address\n",
    "new['address']=new['address'].str.replace(' ','')"
   ]
  },
  {
   "cell_type": "code",
   "execution_count": null,
   "metadata": {},
   "outputs": [],
   "source": [
    "#removing all whitespaces form property_type column\n",
    "new['property_type']=new['property_type'].str.replace(' ','')"
   ]
  },
  {
   "cell_type": "code",
   "execution_count": null,
   "metadata": {
    "scrolled": true
   },
   "outputs": [],
   "source": [
    "new[new['property_type']=='Residential'].sort_values('address').head(30)"
   ]
  },
  {
   "cell_type": "code",
   "execution_count": null,
   "metadata": {
    "scrolled": true
   },
   "outputs": [],
   "source": [
    "##there are a lot of duplicates and need to keep that in mind \n",
    "new[new['address']=='1020NE33rdTerrace,Moore,OK73160']"
   ]
  },
  {
   "cell_type": "code",
   "execution_count": null,
   "metadata": {},
   "outputs": [],
   "source": [
    "##creating a unique indentifier based on the addresses in order to drop duplicates "
   ]
  },
  {
   "cell_type": "code",
   "execution_count": null,
   "metadata": {},
   "outputs": [],
   "source": [
    "import hashlib\n",
    "new['unique_id']=[hashlib.sha1(str.encode(str(i))).hexdigest() for i in new['address']]\n",
    "new['unique_id']=new['unique_id'].str[0:9]"
   ]
  },
  {
   "cell_type": "code",
   "execution_count": null,
   "metadata": {},
   "outputs": [],
   "source": []
  },
  {
   "cell_type": "code",
   "execution_count": null,
   "metadata": {
    "scrolled": true
   },
   "outputs": [],
   "source": [
    "new[new['zip_code']=='73505'].sort_values('unique_id').head(30)"
   ]
  },
  {
   "cell_type": "code",
   "execution_count": null,
   "metadata": {
    "scrolled": true
   },
   "outputs": [],
   "source": [
    "new2=new.drop_duplicates(subset='unique_id')"
   ]
  },
  {
   "cell_type": "code",
   "execution_count": null,
   "metadata": {
    "scrolled": true
   },
   "outputs": [],
   "source": [
    "new2.head(20)"
   ]
  },
  {
   "cell_type": "code",
   "execution_count": null,
   "metadata": {},
   "outputs": [],
   "source": [
    "new2[new2['unique_id']=='43b7b2a9f']"
   ]
  },
  {
   "cell_type": "code",
   "execution_count": null,
   "metadata": {
    "scrolled": true
   },
   "outputs": [],
   "source": [
    "new2[new2['zip_code']=='73505']"
   ]
  },
  {
   "cell_type": "code",
   "execution_count": null,
   "metadata": {},
   "outputs": [],
   "source": [
    "new2['property_type'].value_counts()"
   ]
  },
  {
   "cell_type": "code",
   "execution_count": null,
   "metadata": {},
   "outputs": [],
   "source": [
    "#keeping only single family homes and residential homes \n",
    "#new2=new[(new['property_type']=='Residential') |  (new['property_type']=='Single-FamilyHome')]"
   ]
  },
  {
   "cell_type": "code",
   "execution_count": null,
   "metadata": {},
   "outputs": [],
   "source": []
  },
  {
   "cell_type": "code",
   "execution_count": null,
   "metadata": {
    "scrolled": true
   },
   "outputs": [],
   "source": [
    "new2.head(30)"
   ]
  },
  {
   "cell_type": "code",
   "execution_count": null,
   "metadata": {},
   "outputs": [],
   "source": [
    "new2['lot_size']=new2['lot_size'].str.replace(' ','')"
   ]
  },
  {
   "cell_type": "code",
   "execution_count": null,
   "metadata": {
    "scrolled": true
   },
   "outputs": [],
   "source": [
    "new2.info()"
   ]
  },
  {
   "cell_type": "code",
   "execution_count": null,
   "metadata": {
    "scrolled": true
   },
   "outputs": [],
   "source": [
    "new2.head(20)"
   ]
  },
  {
   "cell_type": "code",
   "execution_count": null,
   "metadata": {},
   "outputs": [],
   "source": [
    "import re\n",
    "def find_number(text):\n",
    "    num = re.findall(r'[.,0-9]+',text)\n",
    "    return \" \".join(num)"
   ]
  },
  {
   "cell_type": "code",
   "execution_count": null,
   "metadata": {},
   "outputs": [],
   "source": [
    "new2.head()"
   ]
  },
  {
   "cell_type": "code",
   "execution_count": null,
   "metadata": {},
   "outputs": [],
   "source": [
    "##replacing nans with random r inorder to allow us to run the function above. \n",
    "new2['lot_size']=new2['lot_size'].fillna('r')"
   ]
  },
  {
   "cell_type": "code",
   "execution_count": null,
   "metadata": {
    "scrolled": true
   },
   "outputs": [],
   "source": [
    "new2['lot_size']=new2['lot_size'].apply(lambda x: find_number(x))"
   ]
  },
  {
   "cell_type": "code",
   "execution_count": null,
   "metadata": {
    "scrolled": true
   },
   "outputs": [],
   "source": [
    "new2.head(10)"
   ]
  },
  {
   "cell_type": "code",
   "execution_count": null,
   "metadata": {},
   "outputs": [],
   "source": [
    "new2.isna().sum().sort_values(ascending=False)"
   ]
  },
  {
   "cell_type": "code",
   "execution_count": null,
   "metadata": {},
   "outputs": [],
   "source": [
    "new2['sq_ft']=new2['sq_ft'].str.replace(',','')"
   ]
  },
  {
   "cell_type": "code",
   "execution_count": null,
   "metadata": {},
   "outputs": [],
   "source": [
    "new2['sq_ft']=new2['sq_ft'].fillna('r')"
   ]
  },
  {
   "cell_type": "code",
   "execution_count": null,
   "metadata": {},
   "outputs": [],
   "source": [
    "new2.head()"
   ]
  },
  {
   "cell_type": "code",
   "execution_count": null,
   "metadata": {},
   "outputs": [],
   "source": []
  },
  {
   "cell_type": "code",
   "execution_count": null,
   "metadata": {
    "scrolled": true
   },
   "outputs": [],
   "source": [
    "new2['sq_ft']=new2['sq_ft'].apply(lambda x: find_number(x))#.astype('float')"
   ]
  },
  {
   "cell_type": "code",
   "execution_count": null,
   "metadata": {},
   "outputs": [],
   "source": []
  },
  {
   "cell_type": "code",
   "execution_count": null,
   "metadata": {},
   "outputs": [],
   "source": [
    "##attempting to replace "
   ]
  },
  {
   "cell_type": "code",
   "execution_count": null,
   "metadata": {},
   "outputs": [],
   "source": []
  },
  {
   "cell_type": "code",
   "execution_count": null,
   "metadata": {},
   "outputs": [],
   "source": [
    "#replacing blanks with null\n",
    "new2=new2.replace(r'^\\s*$', np.nan, regex=True)"
   ]
  },
  {
   "cell_type": "code",
   "execution_count": null,
   "metadata": {},
   "outputs": [],
   "source": [
    "new2['lot_size']=new2['lot_size'].fillna(0)"
   ]
  },
  {
   "cell_type": "code",
   "execution_count": null,
   "metadata": {
    "scrolled": false
   },
   "outputs": [],
   "source": [
    "new2"
   ]
  },
  {
   "cell_type": "code",
   "execution_count": null,
   "metadata": {},
   "outputs": [],
   "source": [
    "#trying to replace property types for single-family homes so they are in the right column\n",
    "new2['lot_size']=np.where(new2['lot_size']==0,new2['sq_ft'],new2['lot_size'])"
   ]
  },
  {
   "cell_type": "code",
   "execution_count": null,
   "metadata": {
    "scrolled": true
   },
   "outputs": [],
   "source": [
    "new2.head(30)"
   ]
  },
  {
   "cell_type": "code",
   "execution_count": null,
   "metadata": {},
   "outputs": [],
   "source": [
    "def lot_size(x):\n",
    "    if x>50:\n",
    "        return np.nan\n",
    "    else:\n",
    "        return x"
   ]
  },
  {
   "cell_type": "code",
   "execution_count": null,
   "metadata": {},
   "outputs": [],
   "source": [
    "new2['lot_size']=new2['lot_size'].str.replace(',','')"
   ]
  },
  {
   "cell_type": "code",
   "execution_count": null,
   "metadata": {},
   "outputs": [],
   "source": [
    "new2['lot_size']=new2['lot_size'].astype('float')"
   ]
  },
  {
   "cell_type": "code",
   "execution_count": null,
   "metadata": {
    "scrolled": true
   },
   "outputs": [],
   "source": [
    "new2['lot_size']=new2['lot_size'].apply(lot_size)"
   ]
  },
  {
   "cell_type": "code",
   "execution_count": null,
   "metadata": {
    "scrolled": true
   },
   "outputs": [],
   "source": [
    "new2.head(30)"
   ]
  },
  {
   "cell_type": "code",
   "execution_count": null,
   "metadata": {},
   "outputs": [],
   "source": [
    "##new2['sq_ft']=new2['sq_ft'].str.replace(',','')"
   ]
  },
  {
   "cell_type": "code",
   "execution_count": null,
   "metadata": {},
   "outputs": [],
   "source": [
    "new2['bath_rooms']=new2['bath_rooms'].str.replace(',','')"
   ]
  },
  {
   "cell_type": "code",
   "execution_count": null,
   "metadata": {},
   "outputs": [],
   "source": [
    "## \n",
    "new2['bath_rooms']=new2['bath_rooms'].fillna('r')"
   ]
  },
  {
   "cell_type": "code",
   "execution_count": null,
   "metadata": {},
   "outputs": [],
   "source": [
    "new2['bath_rooms']=new2['bath_rooms'].apply(lambda x: find_number(x))"
   ]
  },
  {
   "cell_type": "code",
   "execution_count": null,
   "metadata": {
    "scrolled": true
   },
   "outputs": [],
   "source": [
    "new2.head(30)"
   ]
  },
  {
   "cell_type": "code",
   "execution_count": null,
   "metadata": {},
   "outputs": [],
   "source": [
    "new2.info()"
   ]
  },
  {
   "cell_type": "code",
   "execution_count": null,
   "metadata": {},
   "outputs": [],
   "source": [
    "new2['bath_rooms']=new2['bath_rooms'].str.replace(',','')"
   ]
  },
  {
   "cell_type": "code",
   "execution_count": null,
   "metadata": {},
   "outputs": [],
   "source": [
    "#replacing blanks with null\n",
    "new2['bath_rooms']=new2['bath_rooms'].replace(r'^\\s*$', np.nan, regex=True)"
   ]
  },
  {
   "cell_type": "code",
   "execution_count": null,
   "metadata": {
    "scrolled": true
   },
   "outputs": [],
   "source": [
    "new2['bath_rooms']=new2['bath_rooms'].astype('float')"
   ]
  },
  {
   "cell_type": "code",
   "execution_count": null,
   "metadata": {
    "scrolled": true
   },
   "outputs": [],
   "source": [
    "##dropping the bathrooms for two useless rows.\n",
    "new2=new2[new2['bath_rooms']<100]"
   ]
  },
  {
   "cell_type": "code",
   "execution_count": null,
   "metadata": {},
   "outputs": [],
   "source": [
    "new2.head()"
   ]
  },
  {
   "cell_type": "code",
   "execution_count": null,
   "metadata": {},
   "outputs": [],
   "source": []
  },
  {
   "cell_type": "code",
   "execution_count": null,
   "metadata": {},
   "outputs": [],
   "source": [
    "##cleaning bedrooms "
   ]
  },
  {
   "cell_type": "code",
   "execution_count": null,
   "metadata": {
    "scrolled": true
   },
   "outputs": [],
   "source": [
    "new2['bed_rooms']=new2['bed_rooms'].apply(lambda x: find_number(x))#.astype('float')"
   ]
  },
  {
   "cell_type": "code",
   "execution_count": null,
   "metadata": {},
   "outputs": [],
   "source": [
    "new2['bed_rooms']=new2['bed_rooms'].str.replace(',','')"
   ]
  },
  {
   "cell_type": "code",
   "execution_count": null,
   "metadata": {},
   "outputs": [],
   "source": [
    "new2['bed_rooms']=new2['bed_rooms'].astype('float')"
   ]
  },
  {
   "cell_type": "code",
   "execution_count": null,
   "metadata": {
    "scrolled": true
   },
   "outputs": [],
   "source": [
    "new2=new2[new2['bed_rooms']<100]"
   ]
  },
  {
   "cell_type": "code",
   "execution_count": null,
   "metadata": {},
   "outputs": [],
   "source": []
  },
  {
   "cell_type": "code",
   "execution_count": null,
   "metadata": {
    "scrolled": false
   },
   "outputs": [],
   "source": [
    "new2.info()"
   ]
  },
  {
   "cell_type": "code",
   "execution_count": null,
   "metadata": {},
   "outputs": [],
   "source": [
    "new2['sq_ft']=new2['sq_ft'].astype('float')"
   ]
  },
  {
   "cell_type": "code",
   "execution_count": null,
   "metadata": {
    "scrolled": true
   },
   "outputs": [],
   "source": [
    "new2.head(50)"
   ]
  },
  {
   "cell_type": "code",
   "execution_count": null,
   "metadata": {},
   "outputs": [],
   "source": []
  },
  {
   "cell_type": "code",
   "execution_count": null,
   "metadata": {
    "scrolled": true
   },
   "outputs": [],
   "source": [
    "new2['price']=new2['price'].str.replace(',','')"
   ]
  },
  {
   "cell_type": "code",
   "execution_count": null,
   "metadata": {},
   "outputs": [],
   "source": [
    "new2['price']=new2['price'].apply(lambda x: find_number(x)).astype('float')"
   ]
  },
  {
   "cell_type": "code",
   "execution_count": null,
   "metadata": {
    "scrolled": true
   },
   "outputs": [],
   "source": [
    "new2.head(30)"
   ]
  },
  {
   "cell_type": "code",
   "execution_count": null,
   "metadata": {},
   "outputs": [],
   "source": []
  },
  {
   "cell_type": "code",
   "execution_count": null,
   "metadata": {},
   "outputs": [],
   "source": [
    "new2[new2['zip_code']=='74137']"
   ]
  },
  {
   "cell_type": "code",
   "execution_count": null,
   "metadata": {},
   "outputs": [],
   "source": [
    "##new2['address']=new2['address'].str.replace(' ','')"
   ]
  },
  {
   "cell_type": "code",
   "execution_count": null,
   "metadata": {},
   "outputs": [],
   "source": [
    "new2.isna().sum() \n"
   ]
  },
  {
   "cell_type": "code",
   "execution_count": null,
   "metadata": {},
   "outputs": [],
   "source": [
    "new2['sq_ft']=new2['sq_ft'].fillna(new2['sq_ft'].median())"
   ]
  },
  {
   "cell_type": "code",
   "execution_count": null,
   "metadata": {},
   "outputs": [],
   "source": [
    "new2['lot_size']=new2['lot_size'].fillna(new2['lot_size'].median())"
   ]
  },
  {
   "cell_type": "code",
   "execution_count": null,
   "metadata": {
    "scrolled": true
   },
   "outputs": [],
   "source": [
    "new2.corr()['price'].sort_values(ascending=False)"
   ]
  },
  {
   "cell_type": "code",
   "execution_count": null,
   "metadata": {},
   "outputs": [],
   "source": [
    "new2.head()"
   ]
  },
  {
   "cell_type": "code",
   "execution_count": null,
   "metadata": {},
   "outputs": [],
   "source": [
    "new2['zip_code']=new2['zip_code'].str.replace('ahoma Ci','73121')"
   ]
  },
  {
   "cell_type": "code",
   "execution_count": null,
   "metadata": {},
   "outputs": [],
   "source": [
    "new2['zip_code']=new2['zip_code'].str.replace('sa','74114')"
   ]
  },
  {
   "cell_type": "code",
   "execution_count": null,
   "metadata": {},
   "outputs": [],
   "source": [
    "##new2[new2['zip_code']=='sa']"
   ]
  },
  {
   "cell_type": "code",
   "execution_count": null,
   "metadata": {},
   "outputs": [],
   "source": [
    "new2.head()"
   ]
  },
  {
   "cell_type": "code",
   "execution_count": null,
   "metadata": {},
   "outputs": [],
   "source": [
    "new2[new2['address'].str.contains('1516')]"
   ]
  },
  {
   "cell_type": "code",
   "execution_count": null,
   "metadata": {},
   "outputs": [],
   "source": [
    "##with just cities 2214 ## with counties 2804 ##3695 with 30 pages"
   ]
  },
  {
   "cell_type": "code",
   "execution_count": null,
   "metadata": {},
   "outputs": [],
   "source": [
    "new2.shape"
   ]
  },
  {
   "cell_type": "code",
   "execution_count": null,
   "metadata": {},
   "outputs": [],
   "source": [
    "# the code below creates a daily time stamped csv file from our model predictions\n",
    "#zname = datetime.datetime.today().strftime(r'C:\\Users\\arnie\\Desktop\\Oklahoma_housing_data\\oklahoma_realestatesale_%Y%m%d.csv')\n",
    "#new2.to_csv(zname,index=False)"
   ]
  },
  {
   "cell_type": "code",
   "execution_count": null,
   "metadata": {},
   "outputs": [],
   "source": [
    "new2[new2['address'].str.contains('8921')]"
   ]
  },
  {
   "cell_type": "code",
   "execution_count": null,
   "metadata": {},
   "outputs": [],
   "source": []
  },
  {
   "cell_type": "markdown",
   "metadata": {},
   "source": [
    "# creating a sqllite database  to store data in"
   ]
  },
  {
   "cell_type": "code",
   "execution_count": null,
   "metadata": {},
   "outputs": [],
   "source": [
    "import sqlite3"
   ]
  },
  {
   "cell_type": "code",
   "execution_count": null,
   "metadata": {},
   "outputs": [],
   "source": [
    "##creating a new sqllite database\n",
    "conn = sqlite3.connect('oklahoma_homes_sale.db')"
   ]
  },
  {
   "cell_type": "markdown",
   "metadata": {},
   "source": [
    "##dropping a sqlite table\n",
    "conn.execute('''\n",
    "\t\tdrop TABLE homes\n",
    "               ''')"
   ]
  },
  {
   "cell_type": "markdown",
   "metadata": {},
   "source": [
    "##deleting records\n",
    "conn.execute('''\n",
    "\t\tdelete from  homes where unique_id in ('d63036c53','3acec1a3d')\n",
    "               ''')\n",
    "conn.commit()"
   ]
  },
  {
   "cell_type": "markdown",
   "metadata": {},
   "source": [
    "conn.execute('''\n",
    "\t\tdrop TABLE homes\n",
    "               ''')"
   ]
  },
  {
   "cell_type": "code",
   "execution_count": null,
   "metadata": {},
   "outputs": [],
   "source": [
    "new2.head()"
   ]
  },
  {
   "cell_type": "code",
   "execution_count": null,
   "metadata": {},
   "outputs": [],
   "source": [
    "##attempting to update 528db3a24\n"
   ]
  },
  {
   "cell_type": "code",
   "execution_count": null,
   "metadata": {},
   "outputs": [],
   "source": [
    "##updatingall existing homes with latest house prices\n",
    "#frist you have to change values you want to insert to a list\n",
    "nze=new2[['price','unique_id']].values.tolist()"
   ]
  },
  {
   "cell_type": "code",
   "execution_count": null,
   "metadata": {
    "scrolled": true
   },
   "outputs": [],
   "source": [
    "nze"
   ]
  },
  {
   "cell_type": "code",
   "execution_count": null,
   "metadata": {
    "scrolled": true
   },
   "outputs": [],
   "source": [
    "#this is sql code that updates all the new home prices\n",
    "conn.executemany(''' UPDATE homes SET price=? \n",
    "WHERE unique_id=? ;''',nze)\n",
    "conn.commit()"
   ]
  },
  {
   "cell_type": "code",
   "execution_count": null,
   "metadata": {},
   "outputs": [],
   "source": []
  },
  {
   "cell_type": "code",
   "execution_count": null,
   "metadata": {},
   "outputs": [],
   "source": [
    "#current.to_csv('correctprice.csv',index=False)"
   ]
  },
  {
   "cell_type": "code",
   "execution_count": null,
   "metadata": {},
   "outputs": [],
   "source": []
  },
  {
   "cell_type": "code",
   "execution_count": null,
   "metadata": {},
   "outputs": [],
   "source": []
  },
  {
   "cell_type": "code",
   "execution_count": null,
   "metadata": {
    "scrolled": true
   },
   "outputs": [],
   "source": [
    "##only had to run this one time\n",
    "#new2.to_sql('homes', conn,index=False)"
   ]
  },
  {
   "cell_type": "code",
   "execution_count": null,
   "metadata": {},
   "outputs": [],
   "source": []
  },
  {
   "cell_type": "code",
   "execution_count": null,
   "metadata": {},
   "outputs": [],
   "source": [
    "##reading data from sqllite database\n",
    "current=pd.read_sql('SELECT * FROM homes', conn)"
   ]
  },
  {
   "cell_type": "code",
   "execution_count": null,
   "metadata": {},
   "outputs": [],
   "source": [
    "current.shape"
   ]
  },
  {
   "cell_type": "code",
   "execution_count": null,
   "metadata": {},
   "outputs": [],
   "source": [
    "current.head()"
   ]
  },
  {
   "cell_type": "code",
   "execution_count": null,
   "metadata": {},
   "outputs": [],
   "source": [
    "##current[current['address'].str.contains('2330')]"
   ]
  },
  {
   "cell_type": "code",
   "execution_count": null,
   "metadata": {},
   "outputs": [],
   "source": [
    "new_entry=new2[~new2['unique_id'].isin(current['unique_id'])]"
   ]
  },
  {
   "cell_type": "code",
   "execution_count": null,
   "metadata": {
    "scrolled": false
   },
   "outputs": [],
   "source": [
    "new_entry"
   ]
  },
  {
   "cell_type": "code",
   "execution_count": null,
   "metadata": {},
   "outputs": [],
   "source": [
    "#new_entry.to_sql('homes',conn,index=False,if_exists='append')"
   ]
  },
  {
   "cell_type": "code",
   "execution_count": null,
   "metadata": {},
   "outputs": [],
   "source": [
    "new_entry[new_entry['zip_code']=='73025']"
   ]
  },
  {
   "cell_type": "code",
   "execution_count": null,
   "metadata": {
    "scrolled": true
   },
   "outputs": [],
   "source": [
    "current[current['zip_code']=='73010']"
   ]
  },
  {
   "cell_type": "code",
   "execution_count": null,
   "metadata": {},
   "outputs": [],
   "source": []
  },
  {
   "cell_type": "code",
   "execution_count": null,
   "metadata": {},
   "outputs": [],
   "source": []
  }
 ],
 "metadata": {
  "kernelspec": {
   "display_name": "Python 3",
   "language": "python",
   "name": "python3"
  },
  "language_info": {
   "codemirror_mode": {
    "name": "ipython",
    "version": 3
   },
   "file_extension": ".py",
   "mimetype": "text/x-python",
   "name": "python",
   "nbconvert_exporter": "python",
   "pygments_lexer": "ipython3",
   "version": "3.8.5"
  }
 },
 "nbformat": 4,
 "nbformat_minor": 4
}
